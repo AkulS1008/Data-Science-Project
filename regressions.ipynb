{
 "cells": [
  {
   "cell_type": "code",
   "execution_count": 12,
   "metadata": {},
   "outputs": [
    {
     "ename": "ModuleNotFoundError",
     "evalue": "No module named 'sklearn'",
     "output_type": "error",
     "traceback": [
      "\u001b[0;31m---------------------------------------------------------------------------\u001b[0m",
      "\u001b[0;31mModuleNotFoundError\u001b[0m                       Traceback (most recent call last)",
      "\u001b[1;32m/Users/akulsingh/Documents/data_science/regressions.ipynb Cell 1\u001b[0m in \u001b[0;36m<cell line: 6>\u001b[0;34m()\u001b[0m\n\u001b[1;32m      <a href='vscode-notebook-cell:/Users/akulsingh/Documents/data_science/regressions.ipynb#W0sZmlsZQ%3D%3D?line=3'>4</a>\u001b[0m \u001b[39mimport\u001b[39;00m \u001b[39mseaborn\u001b[39;00m \u001b[39mas\u001b[39;00m \u001b[39msns\u001b[39;00m\n\u001b[1;32m      <a href='vscode-notebook-cell:/Users/akulsingh/Documents/data_science/regressions.ipynb#W0sZmlsZQ%3D%3D?line=4'>5</a>\u001b[0m \u001b[39mfrom\u001b[39;00m \u001b[39mscipy\u001b[39;00m \u001b[39mimport\u001b[39;00m stats\n\u001b[0;32m----> <a href='vscode-notebook-cell:/Users/akulsingh/Documents/data_science/regressions.ipynb#W0sZmlsZQ%3D%3D?line=5'>6</a>\u001b[0m \u001b[39mfrom\u001b[39;00m \u001b[39msklearn\u001b[39;00m \u001b[39mimport\u001b[39;00m linear_model\n\u001b[1;32m      <a href='vscode-notebook-cell:/Users/akulsingh/Documents/data_science/regressions.ipynb#W0sZmlsZQ%3D%3D?line=7'>8</a>\u001b[0m \u001b[39mdef\u001b[39;00m \u001b[39mmake_eqn\u001b[39m(x):\n\u001b[1;32m      <a href='vscode-notebook-cell:/Users/akulsingh/Documents/data_science/regressions.ipynb#W0sZmlsZQ%3D%3D?line=8'>9</a>\u001b[0m     \u001b[39mreturn\u001b[39;00m slope \u001b[39m*\u001b[39m x \u001b[39m+\u001b[39m intercepts\n",
      "\u001b[0;31mModuleNotFoundError\u001b[0m: No module named 'sklearn'"
     ]
    }
   ],
   "source": [
    "import numpy as np\n",
    "import pandas as pd\n",
    "import matplotlib.pyplot as plt\n",
    "import seaborn as sns\n",
    "from scipy import stats\n",
    "\n",
    "def make_eqn(x):\n",
    "    return slope * x + intercepts\n",
    "\n",
    "x = np.array([5,7,8,2,9,4,11,9,6])\n",
    "y = np.array([99,86,87,103,87,94,77,85,86])\n",
    "slope, intercepts, r, p, std_error = stats.linregress(x, y)\n",
    "mymodel = list(map(make_eqn, x)) #Here x array's vals is param for make_eqn\n",
    "plt.scatter(x, y)\n",
    "plt.plot(x, mymodel)\n",
    "plt.show()"
   ]
  },
  {
   "cell_type": "code",
   "execution_count": 11,
   "metadata": {},
   "outputs": [
    {
     "name": "stdout",
     "output_type": "stream",
     "text": [
      "[-3.03208795e-02  1.34333191e+00 -1.55383039e+01  1.13768037e+02]\n"
     ]
    },
    {
     "data": {
      "image/png": "[encoded data removed]",
      "text/plain": [
       "<Figure size 432x288 with 1 Axes>"
      ]
     },
     "metadata": {
      "needs_background": "light"
     },
     "output_type": "display_data"
    }
   ],
   "source": [
    "x = [1,2,3,5,6,7,8,9,10,12,13,14,15,16,18,19,21,22]\n",
    "y = [100,90,80,60,60,55,60,65,70,70,75,76,78,79,90,99,99,100]\n",
    "print(np.polyfit(x, y, 3))\n",
    "tmodel = np.poly1d(np.polyfit(x, y, 3)) #returns function, third arg is degree of polynomial. polyfit gives set of coefficient values \n",
    "myline = np.linspace(1, 22, 100) #param: axis, x scale, y scale\n",
    "plt.scatter(x, y)\n",
    "plt.plot(myline, tmodel(myline))\n",
    "plt.show()"
   ]
  },
  {
   "cell_type": "code",
   "execution_count": 24,
   "metadata": {},
   "outputs": [
    {
     "data": {
      "text/plain": [
       "array([3.+3.7252903e-08j, 3.-3.7252903e-08j])"
      ]
     },
     "execution_count": 24,
     "metadata": {},
     "output_type": "execute_result"
    }
   ],
   "source": [
    "p1 = np.poly1d([1, 2]) #x + 2\n",
    "p2 = np.poly1d([4, 9, 5, 4]) #4x^3 + 9x^2 + 5x + 4\n",
    "p1.r, p2.r #gives roots of the polynomial\n",
    "p1.c, p2.c #gives coefficients of polynomials\n",
    "p1.o, p2.o #gives order of polynomial\n",
    "p3 = np.poly1d([1, -6, 9])\n",
    "p3.r"
   ]
  },
  {
   "cell_type": "code",
   "execution_count": 26,
   "metadata": {},
   "outputs": [
    {
     "data": {
      "text/plain": [
       "[<matplotlib.lines.Line2D at 0x120e37f10>]"
      ]
     },
     "execution_count": 26,
     "metadata": {},
     "output_type": "execute_result"
    },
    {
     "data": {
      "image/png": "[encoded data removed]",
      "text/plain": [
       "<Figure size 432x288 with 1 Axes>"
      ]
     },
     "metadata": {
      "needs_background": "light"
     },
     "output_type": "display_data"
    }
   ],
   "source": [
    "x = [1,2,3,5,6,7,8,9,10,12,13,14,15,16,18,19,21,22]\n",
    "p = np.poly1d([4, 9, 5, 4])\n",
    "out = np.polyval(p, x) #gives array of outputs p(n) for n in array x\n",
    "plt.plot(x, out)"
   ]
  },
  {
   "cell_type": "code",
   "execution_count": 28,
   "metadata": {},
   "outputs": [
    {
     "data": {
      "text/plain": [
       "poly1d([ 1., -6., 11., -6.])"
      ]
     },
     "execution_count": 28,
     "metadata": {},
     "output_type": "execute_result"
    }
   ],
   "source": [
    "p = np.poly1d([1, 2, 3], True) #p = (x - 1)(x - 2)(x - 3) when True is applied; default arg is False"
   ]
  },
  {
   "cell_type": "code",
   "execution_count": 3,
   "metadata": {},
   "outputs": [
    {
     "data": {
      "text/html": [
       "<div>\n",
       "<style scoped>\n",
       "    .dataframe tbody tr th:only-of-type {\n",
       "        vertical-align: middle;\n",
       "    }\n",
       "\n",
       "    .dataframe tbody tr th {\n",
       "        vertical-align: top;\n",
       "    }\n",
       "\n",
       "    .dataframe thead th {\n",
       "        text-align: right;\n",
       "    }\n",
       "</style>\n",
       "<table border=\"1\" class=\"dataframe\">\n",
       "  <thead>\n",
       "    <tr style=\"text-align: right;\">\n",
       "      <th></th>\n",
       "      <th>x</th>\n",
       "      <th>y</th>\n",
       "      <th>p(x)</th>\n",
       "      <th>y - p(x)</th>\n",
       "    </tr>\n",
       "  </thead>\n",
       "  <tbody>\n",
       "    <tr>\n",
       "      <th>0</th>\n",
       "      <td>1</td>\n",
       "      <td>100</td>\n",
       "      <td>103.258116</td>\n",
       "      <td>-3.258116</td>\n",
       "    </tr>\n",
       "    <tr>\n",
       "      <th>1</th>\n",
       "      <td>2</td>\n",
       "      <td>90</td>\n",
       "      <td>86.906453</td>\n",
       "      <td>3.093547</td>\n",
       "    </tr>\n",
       "    <tr>\n",
       "      <th>2</th>\n",
       "      <td>3</td>\n",
       "      <td>80</td>\n",
       "      <td>75.459351</td>\n",
       "      <td>4.540649</td>\n",
       "    </tr>\n",
       "    <tr>\n",
       "      <th>3</th>\n",
       "      <td>5</td>\n",
       "      <td>60</td>\n",
       "      <td>63.278189</td>\n",
       "      <td>-3.278189</td>\n",
       "    </tr>\n",
       "    <tr>\n",
       "      <th>4</th>\n",
       "      <td>6</td>\n",
       "      <td>60</td>\n",
       "      <td>60.953593</td>\n",
       "      <td>-0.953593</td>\n",
       "    </tr>\n",
       "    <tr>\n",
       "      <th>5</th>\n",
       "      <td>7</td>\n",
       "      <td>55</td>\n",
       "      <td>60.320920</td>\n",
       "      <td>-5.320920</td>\n",
       "    </tr>\n",
       "    <tr>\n",
       "      <th>6</th>\n",
       "      <td>8</td>\n",
       "      <td>60</td>\n",
       "      <td>60.923673</td>\n",
       "      <td>-0.923673</td>\n",
       "    </tr>\n",
       "    <tr>\n",
       "      <th>7</th>\n",
       "      <td>9</td>\n",
       "      <td>65</td>\n",
       "      <td>62.412454</td>\n",
       "      <td>2.587546</td>\n",
       "    </tr>\n",
       "    <tr>\n",
       "      <th>8</th>\n",
       "      <td>10</td>\n",
       "      <td>70</td>\n",
       "      <td>64.529187</td>\n",
       "      <td>5.470813</td>\n",
       "    </tr>\n",
       "    <tr>\n",
       "      <th>9</th>\n",
       "      <td>12</td>\n",
       "      <td>70</td>\n",
       "      <td>69.976130</td>\n",
       "      <td>0.023870</td>\n",
       "    </tr>\n",
       "    <tr>\n",
       "      <th>10</th>\n",
       "      <td>13</td>\n",
       "      <td>75</td>\n",
       "      <td>73.104769</td>\n",
       "      <td>1.895231</td>\n",
       "    </tr>\n",
       "    <tr>\n",
       "      <th>11</th>\n",
       "      <td>14</td>\n",
       "      <td>76</td>\n",
       "      <td>76.426657</td>\n",
       "      <td>-0.426657</td>\n",
       "    </tr>\n",
       "    <tr>\n",
       "      <th>12</th>\n",
       "      <td>15</td>\n",
       "      <td>78</td>\n",
       "      <td>79.903612</td>\n",
       "      <td>-1.903612</td>\n",
       "    </tr>\n",
       "    <tr>\n",
       "      <th>13</th>\n",
       "      <td>16</td>\n",
       "      <td>79</td>\n",
       "      <td>83.494091</td>\n",
       "      <td>-4.494091</td>\n",
       "    </tr>\n",
       "    <tr>\n",
       "      <th>14</th>\n",
       "      <td>18</td>\n",
       "      <td>90</td>\n",
       "      <td>90.737946</td>\n",
       "      <td>-0.737946</td>\n",
       "    </tr>\n",
       "    <tr>\n",
       "      <th>15</th>\n",
       "      <td>19</td>\n",
       "      <td>99</td>\n",
       "      <td>94.149389</td>\n",
       "      <td>4.850611</td>\n",
       "    </tr>\n",
       "    <tr>\n",
       "      <th>16</th>\n",
       "      <td>21</td>\n",
       "      <td>99</td>\n",
       "      <td>99.471498</td>\n",
       "      <td>-0.471498</td>\n",
       "    </tr>\n",
       "    <tr>\n",
       "      <th>17</th>\n",
       "      <td>22</td>\n",
       "      <td>100</td>\n",
       "      <td>100.693971</td>\n",
       "      <td>-0.693971</td>\n",
       "    </tr>\n",
       "  </tbody>\n",
       "</table>\n",
       "</div>"
      ],
      "text/plain": [
       "     x    y        p(x)  y - p(x)\n",
       "0    1  100  103.258116 -3.258116\n",
       "1    2   90   86.906453  3.093547\n",
       "2    3   80   75.459351  4.540649\n",
       "3    5   60   63.278189 -3.278189\n",
       "4    6   60   60.953593 -0.953593\n",
       "5    7   55   60.320920 -5.320920\n",
       "6    8   60   60.923673 -0.923673\n",
       "7    9   65   62.412454  2.587546\n",
       "8   10   70   64.529187  5.470813\n",
       "9   12   70   69.976130  0.023870\n",
       "10  13   75   73.104769  1.895231\n",
       "11  14   76   76.426657 -0.426657\n",
       "12  15   78   79.903612 -1.903612\n",
       "13  16   79   83.494091 -4.494091\n",
       "14  18   90   90.737946 -0.737946\n",
       "15  19   99   94.149389  4.850611\n",
       "16  21   99   99.471498 -0.471498\n",
       "17  22  100  100.693971 -0.693971"
      ]
     },
     "execution_count": 3,
     "metadata": {},
     "output_type": "execute_result"
    }
   ],
   "source": [
    "x = [1,2,3,5,6,7,8,9,10,12,13,14,15,16,18,19,21,22]; y = [100,90,80,60,60,55,60,65,70,70,75,76,78,79,90,99,99,100]\n",
    "p = np.polyfit(x, y, 5) #polynomial coefficients\n",
    "f = np.polyval(p, x) #y values from polynomial\n",
    "pd.DataFrame({\"x\" : x, \"y\" : y, \"p(x)\" : f, \"y - p(x)\" : y - f})\n",
    "#np.poly1d(p)(2.5)\n"
   ]
  },
  {
   "cell_type": "code",
   "execution_count": 7,
   "metadata": {},
   "outputs": [
    {
     "ename": "TypeError",
     "evalue": "linregress() missing 1 required positional argument: 'x'",
     "output_type": "error",
     "traceback": [
      "\u001b[0;31m---------------------------------------------------------------------------\u001b[0m",
      "\u001b[0;31mTypeError\u001b[0m                                 Traceback (most recent call last)",
      "\u001b[1;32m/Users/akulsingh/Documents/data_science/regressions.ipynb Cell 7\u001b[0m in \u001b[0;36m<cell line: 3>\u001b[0;34m()\u001b[0m\n\u001b[1;32m      <a href='vscode-notebook-cell:/Users/akulsingh/Documents/data_science/regressions.ipynb#X11sZmlsZQ%3D%3D?line=0'>1</a>\u001b[0m cardata \u001b[39m=\u001b[39m pd\u001b[39m.\u001b[39mread_csv(\u001b[39m\"\u001b[39m\u001b[39mCarData.csv\u001b[39m\u001b[39m\"\u001b[39m)\n\u001b[1;32m      <a href='vscode-notebook-cell:/Users/akulsingh/Documents/data_science/regressions.ipynb#X11sZmlsZQ%3D%3D?line=1'>2</a>\u001b[0m X \u001b[39m=\u001b[39m cardata[[\u001b[39m\"\u001b[39m\u001b[39mVolume\u001b[39m\u001b[39m\"\u001b[39m, \u001b[39m\"\u001b[39m\u001b[39mWeight\u001b[39m\u001b[39m\"\u001b[39m]]; y \u001b[39m=\u001b[39m cardata[\u001b[39m\"\u001b[39m\u001b[39mCO2\u001b[39m\u001b[39m\"\u001b[39m]\n\u001b[0;32m----> <a href='vscode-notebook-cell:/Users/akulsingh/Documents/data_science/regressions.ipynb#X11sZmlsZQ%3D%3D?line=2'>3</a>\u001b[0m regr \u001b[39m=\u001b[39m stats\u001b[39m.\u001b[39;49mlinregress()\n\u001b[1;32m      <a href='vscode-notebook-cell:/Users/akulsingh/Documents/data_science/regressions.ipynb#X11sZmlsZQ%3D%3D?line=3'>4</a>\u001b[0m regr\u001b[39m.\u001b[39mfit(X, y)\n",
      "\u001b[0;31mTypeError\u001b[0m: linregress() missing 1 required positional argument: 'x'"
     ]
    }
   ],
   "source": [
    "\n"
   ]
  },
  {
   "cell_type": "code",
   "execution_count": null,
   "metadata": {},
   "outputs": [],
   "source": []
  }
 ],
 "metadata": {
  "kernelspec": {
   "display_name": "Python 3",
   "language": "python",
   "name": "python3"
  },
  "language_info": {
   "codemirror_mode": {
    "name": "ipython",
    "version": 3
   },
   "file_extension": ".py",
   "mimetype": "text/x-python",
   "name": "python",
   "nbconvert_exporter": "python",
   "pygments_lexer": "ipython3",
   "version": "3.10.4"
  },
  "orig_nbformat": 4
 },
 "nbformat": 4,
 "nbformat_minor": 2
}
